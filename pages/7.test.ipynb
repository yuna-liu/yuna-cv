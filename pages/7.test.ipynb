import yaml

def load_and_chunk_yaml(file_path):
    with open(file_path, "r", encoding="utf-8") as f:
        data = yaml.safe_load(f)

    chunks = []
    for key, value in data.items():
        chunk_text = f"{key}:\n{yaml.dump(value)}"
        chunks.append(chunk_text)
    return chunks

chunks = load_and_chunk_yaml("knowledge-base/profile.yaml")

for i, c in enumerate(chunks):
    print(f"Chunk {i} preview (length {len(c)} chars):\n{c[:300]}...\n")

print(chunks[i])
